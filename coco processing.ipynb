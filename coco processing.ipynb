{
 "cells": [
  {
   "cell_type": "code",
   "execution_count": 141,
   "metadata": {},
   "outputs": [
    {
     "name": "stdout",
     "output_type": "stream",
     "text": [
      "/home/deepak/pySpace/PROJECTS/ml/MINOR Project/image_cap/prep\n"
     ]
    }
   ],
   "source": [
    "cd /home/deepak/pySpace/PROJECTS/ml/MINOR\\ Project/image_cap/prep/"
   ]
  },
  {
   "cell_type": "code",
   "execution_count": 35,
   "metadata": {},
   "outputs": [],
   "source": [
    "import matplotlib.pyplot as plt \n",
    "from prepare_images import process_dir\n",
    "from prepare_images import prepare_vgg16\n",
    "# from prepare_images import"
   ]
  },
  {
   "cell_type": "code",
   "execution_count": null,
   "metadata": {
    "collapsed": true
   },
   "outputs": [
    {
     "name": "stdout",
     "output_type": "stream",
     "text": [
      "downloading vgg 16 \n",
      "download complete\n"
     ]
    },
    {
     "name": "stderr",
     "output_type": "stream",
     "text": [
      "\r",
      "  0%|          | 0/50 [00:00<?, ?it/s]"
     ]
    },
    {
     "name": "stdout",
     "output_type": "stream",
     "text": [
      "extracting_features\n"
     ]
    },
    {
     "name": "stderr",
     "output_type": "stream",
     "text": [
      "100%|██████████| 50/50 [00:49<00:00,  1.02it/s]\n",
      "  0%|          | 0/50 [00:00<?, ?it/s]"
     ]
    },
    {
     "name": "stdout",
     "output_type": "stream",
     "text": [
      "extracting_features\n"
     ]
    },
    {
     "name": "stderr",
     "output_type": "stream",
     "text": [
      " 84%|████████▍ | 42/50 [00:45<00:08,  1.07s/it]"
     ]
    }
   ],
   "source": [
    "model= prepare_vgg16( )\n",
    "maps = process_dir( dir_url=\"/home/deepak/pySpace/PROJECTS/ml/imageLabeling/Flicker8k_Dataset\", model=model , name_extension='.pkl', save_name= 'flickr_all', sub_part_size= 50)"
   ]
  },
  {
   "cell_type": "code",
   "execution_count": 1,
   "metadata": {},
   "outputs": [],
   "source": [
    "import pickle \n",
    "from tqdm import tqdm "
   ]
  },
  {
   "cell_type": "code",
   "execution_count": 2,
   "metadata": {},
   "outputs": [],
   "source": [
    "with open( '/home/deepak/Downloads/coco_train_1.pkl', 'rb' ) as file :\n",
    "    features = pickle.load( file)"
   ]
  },
  {
   "cell_type": "code",
   "execution_count": 8,
   "metadata": {},
   "outputs": [
    {
     "name": "stderr",
     "output_type": "stream",
     "text": [
      "test : 100%|██████████| 10000/10000 [00:00<00:00, 1111397.76it/s]\n"
     ]
    }
   ],
   "source": [
    "for i in tqdm(range( 10000), desc = 'test '):\n",
    "    pass"
   ]
  },
  {
   "cell_type": "markdown",
   "metadata": {},
   "source": [
    "# Now text "
   ]
  },
  {
   "cell_type": "code",
   "execution_count": 4,
   "metadata": {},
   "outputs": [],
   "source": [
    "from prep.prepare_text import parse_json, process_text"
   ]
  },
  {
   "cell_type": "code",
   "execution_count": 13,
   "metadata": {},
   "outputs": [],
   "source": [
    "train_imgIdToCaptions, train_imgIdToFileName, train_text =  parse_json( path= \"/home/deepak/pySpace/PROJECTS/ml/MINOR Project/Image Captioning dataset /annotations/captions_train2014.json\" ,save_name= 'train2014_annots')\n",
    "val_imgIdToCaptions,   val_imgIdToFileName,   val_text   =  parse_json( path=\"/home/deepak/pySpace/PROJECTS/ml/MINOR Project/Image Captioning dataset /annotations/captions_val2014.json\",   save_name= 'train2014_annots')"
   ]
  },
  {
   "cell_type": "code",
   "execution_count": 14,
   "metadata": {},
   "outputs": [],
   "source": [
    "train_tok, train_id_to_sequence  = process_text( text = train_text, save_name = 'train')"
   ]
  },
  {
   "cell_type": "code",
   "execution_count": 16,
   "metadata": {},
   "outputs": [],
   "source": [
    "_, val_id_to_sequence = process_text(tok= train_tok ,text=val_text ,save_name= 'train')"
   ]
  },
  {
   "cell_type": "code",
   "execution_count": null,
   "metadata": {},
   "outputs": [],
   "source": []
  },
  {
   "cell_type": "code",
   "execution_count": null,
   "metadata": {},
   "outputs": [],
   "source": []
  }
 ],
 "metadata": {
  "kernelspec": {
   "display_name": "Python 3",
   "language": "python",
   "name": "python3"
  },
  "language_info": {
   "codemirror_mode": {
    "name": "ipython",
    "version": 3
   },
   "file_extension": ".py",
   "mimetype": "text/x-python",
   "name": "python",
   "nbconvert_exporter": "python",
   "pygments_lexer": "ipython3",
   "version": "3.6.6"
  }
 },
 "nbformat": 4,
 "nbformat_minor": 2
}
